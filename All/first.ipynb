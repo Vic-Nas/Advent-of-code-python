{
 "cells": [
  {
   "cell_type": "markdown",
   "id": "29a9b349-0b74-4227-8f49-8af9e72a322f",
   "metadata": {},
   "source": [
    "# The first"
   ]
  },
  {
   "cell_type": "code",
   "execution_count": 2,
   "id": "8cb27be9-699f-47a4-b92f-d95d8cf48b09",
   "metadata": {},
   "outputs": [
    {
     "name": "stdout",
     "output_type": "stream",
     "text": [
      "JOHNA\n"
     ]
    }
   ],
   "source": [
    "print(\"JOHN\")"
   ]
  },
  {
   "cell_type": "code",
   "execution_count": null,
   "id": "d5a1462f-9f9d-4242-8462-9a33b8bb30e4",
   "metadata": {},
   "outputs": [],
   "source": []
  }
 ],
 "metadata": {
  "kernelspec": {
   "display_name": "Python 3 (ipykernel)",
   "language": "python",
   "name": "python3"
  },
  "language_info": {
   "codemirror_mode": {
    "name": "ipython",
    "version": 3
   },
   "file_extension": ".py",
   "mimetype": "text/x-python",
   "name": "python",
   "nbconvert_exporter": "python",
   "pygments_lexer": "ipython3",
   "version": "3.12.4"
  }
 },
 "nbformat": 4,
 "nbformat_minor": 5
}
